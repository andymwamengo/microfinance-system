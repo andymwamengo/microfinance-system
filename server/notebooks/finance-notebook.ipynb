{
 "cells": [
  {
   "cell_type": "code",
   "execution_count": 1,
   "metadata": {},
   "outputs": [],
   "source": [
    "import pandas as pd\n",
    "import numpy as np\n",
    "import matplotlib.pyplot as plt\n",
    "import seaborn as sns\n",
    "import warnings\n",
    "warnings.filterwarnings('ignore')\n",
    "warnings.filterwarnings('ignore', category=DeprecationWarning)"
   ]
  },
  {
   "cell_type": "code",
   "execution_count": null,
   "metadata": {},
   "outputs": [],
   "source": []
  },
  {
   "cell_type": "code",
   "execution_count": 2,
   "metadata": {},
   "outputs": [],
   "source": [
    "df = pd.read_json('institution_income.json')"
   ]
  },
  {
   "cell_type": "code",
   "execution_count": 3,
   "metadata": {},
   "outputs": [
    {
     "data": {
      "text/html": [
       "<div>\n",
       "<style scoped>\n",
       "    .dataframe tbody tr th:only-of-type {\n",
       "        vertical-align: middle;\n",
       "    }\n",
       "\n",
       "    .dataframe tbody tr th {\n",
       "        vertical-align: top;\n",
       "    }\n",
       "\n",
       "    .dataframe thead th {\n",
       "        text-align: right;\n",
       "    }\n",
       "</style>\n",
       "<table border=\"1\" class=\"dataframe\">\n",
       "  <thead>\n",
       "    <tr style=\"text-align: right;\">\n",
       "      <th></th>\n",
       "      <th>report_assets</th>\n",
       "      <th>report_liability</th>\n",
       "      <th>report_revenue</th>\n",
       "      <th>report_income</th>\n",
       "      <th>institution_class</th>\n",
       "      <th>ratio</th>\n",
       "      <th>performance</th>\n",
       "    </tr>\n",
       "  </thead>\n",
       "  <tbody>\n",
       "    <tr>\n",
       "      <th>0</th>\n",
       "      <td>14689646</td>\n",
       "      <td>6052776</td>\n",
       "      <td>819386</td>\n",
       "      <td>204031</td>\n",
       "      <td>high</td>\n",
       "      <td>4.933932</td>\n",
       "      <td>upper</td>\n",
       "    </tr>\n",
       "    <tr>\n",
       "      <th>1</th>\n",
       "      <td>7223978</td>\n",
       "      <td>2719722</td>\n",
       "      <td>427268</td>\n",
       "      <td>61255</td>\n",
       "      <td>upper</td>\n",
       "      <td>4.912890</td>\n",
       "      <td>upper</td>\n",
       "    </tr>\n",
       "    <tr>\n",
       "      <th>2</th>\n",
       "      <td>90871076</td>\n",
       "      <td>76119534</td>\n",
       "      <td>3098791</td>\n",
       "      <td>1077167</td>\n",
       "      <td>high</td>\n",
       "      <td>2.500714</td>\n",
       "      <td>middle</td>\n",
       "    </tr>\n",
       "    <tr>\n",
       "      <th>3</th>\n",
       "      <td>30187502</td>\n",
       "      <td>1848448</td>\n",
       "      <td>2295721</td>\n",
       "      <td>2225467</td>\n",
       "      <td>high</td>\n",
       "      <td>14.112858</td>\n",
       "      <td>high</td>\n",
       "    </tr>\n",
       "    <tr>\n",
       "      <th>4</th>\n",
       "      <td>5696065031</td>\n",
       "      <td>350281564</td>\n",
       "      <td>85694866</td>\n",
       "      <td>66378622</td>\n",
       "      <td>high</td>\n",
       "      <td>2.515130</td>\n",
       "      <td>middle</td>\n",
       "    </tr>\n",
       "  </tbody>\n",
       "</table>\n",
       "</div>"
      ],
      "text/plain": [
       "   report_assets  report_liability  report_revenue  report_income  \\\n",
       "0       14689646           6052776          819386         204031   \n",
       "1        7223978           2719722          427268          61255   \n",
       "2       90871076          76119534         3098791        1077167   \n",
       "3       30187502           1848448         2295721        2225467   \n",
       "4     5696065031         350281564        85694866       66378622   \n",
       "\n",
       "  institution_class      ratio performance  \n",
       "0              high   4.933932       upper  \n",
       "1             upper   4.912890       upper  \n",
       "2              high   2.500714      middle  \n",
       "3              high  14.112858        high  \n",
       "4              high   2.515130      middle  "
      ]
     },
     "execution_count": 3,
     "metadata": {},
     "output_type": "execute_result"
    }
   ],
   "source": [
    "df.head()"
   ]
  },
  {
   "cell_type": "code",
   "execution_count": 4,
   "metadata": {},
   "outputs": [
    {
     "data": {
      "text/html": [
       "<div>\n",
       "<style scoped>\n",
       "    .dataframe tbody tr th:only-of-type {\n",
       "        vertical-align: middle;\n",
       "    }\n",
       "\n",
       "    .dataframe tbody tr th {\n",
       "        vertical-align: top;\n",
       "    }\n",
       "\n",
       "    .dataframe thead th {\n",
       "        text-align: right;\n",
       "    }\n",
       "</style>\n",
       "<table border=\"1\" class=\"dataframe\">\n",
       "  <thead>\n",
       "    <tr style=\"text-align: right;\">\n",
       "      <th></th>\n",
       "      <th>report_assets</th>\n",
       "      <th>report_liability</th>\n",
       "      <th>report_revenue</th>\n",
       "      <th>report_income</th>\n",
       "      <th>institution_class</th>\n",
       "      <th>ratio</th>\n",
       "      <th>performance</th>\n",
       "    </tr>\n",
       "  </thead>\n",
       "  <tbody>\n",
       "    <tr>\n",
       "      <th>9996</th>\n",
       "      <td>9757417394</td>\n",
       "      <td>613670518</td>\n",
       "      <td>401609849</td>\n",
       "      <td>250993209</td>\n",
       "      <td>high</td>\n",
       "      <td>6.292523</td>\n",
       "      <td>high</td>\n",
       "    </tr>\n",
       "    <tr>\n",
       "      <th>9997</th>\n",
       "      <td>868215099</td>\n",
       "      <td>589297027</td>\n",
       "      <td>7099801</td>\n",
       "      <td>6302689</td>\n",
       "      <td>high</td>\n",
       "      <td>0.919546</td>\n",
       "      <td>low</td>\n",
       "    </tr>\n",
       "    <tr>\n",
       "      <th>9998</th>\n",
       "      <td>16324196</td>\n",
       "      <td>10031179</td>\n",
       "      <td>1150504</td>\n",
       "      <td>857964</td>\n",
       "      <td>high</td>\n",
       "      <td>7.620715</td>\n",
       "      <td>high</td>\n",
       "    </tr>\n",
       "    <tr>\n",
       "      <th>9999</th>\n",
       "      <td>8344974</td>\n",
       "      <td>7198054</td>\n",
       "      <td>50445</td>\n",
       "      <td>36882</td>\n",
       "      <td>high</td>\n",
       "      <td>0.561840</td>\n",
       "      <td>low</td>\n",
       "    </tr>\n",
       "    <tr>\n",
       "      <th>10000</th>\n",
       "      <td>9335372870</td>\n",
       "      <td>2653675971</td>\n",
       "      <td>216131536</td>\n",
       "      <td>132634725</td>\n",
       "      <td>high</td>\n",
       "      <td>2.909040</td>\n",
       "      <td>middle</td>\n",
       "    </tr>\n",
       "  </tbody>\n",
       "</table>\n",
       "</div>"
      ],
      "text/plain": [
       "       report_assets  report_liability  report_revenue  report_income  \\\n",
       "9996      9757417394         613670518       401609849      250993209   \n",
       "9997       868215099         589297027         7099801        6302689   \n",
       "9998        16324196          10031179         1150504         857964   \n",
       "9999         8344974           7198054           50445          36882   \n",
       "10000     9335372870        2653675971       216131536      132634725   \n",
       "\n",
       "      institution_class     ratio performance  \n",
       "9996               high  6.292523        high  \n",
       "9997               high  0.919546         low  \n",
       "9998               high  7.620715        high  \n",
       "9999               high  0.561840         low  \n",
       "10000              high  2.909040      middle  "
      ]
     },
     "execution_count": 4,
     "metadata": {},
     "output_type": "execute_result"
    }
   ],
   "source": [
    "df.tail()"
   ]
  },
  {
   "cell_type": "code",
   "execution_count": null,
   "metadata": {},
   "outputs": [],
   "source": []
  },
  {
   "cell_type": "code",
   "execution_count": 5,
   "metadata": {},
   "outputs": [
    {
     "name": "stdout",
     "output_type": "stream",
     "text": [
      "<class 'pandas.core.frame.DataFrame'>\n",
      "RangeIndex: 10001 entries, 0 to 10000\n",
      "Data columns (total 7 columns):\n",
      " #   Column             Non-Null Count  Dtype  \n",
      "---  ------             --------------  -----  \n",
      " 0   report_assets      10001 non-null  int64  \n",
      " 1   report_liability   10001 non-null  int64  \n",
      " 2   report_revenue     10001 non-null  int64  \n",
      " 3   report_income      10001 non-null  int64  \n",
      " 4   institution_class  10001 non-null  object \n",
      " 5   ratio              10001 non-null  float64\n",
      " 6   performance        10001 non-null  object \n",
      "dtypes: float64(1), int64(4), object(2)\n",
      "memory usage: 547.1+ KB\n"
     ]
    }
   ],
   "source": [
    "df.info()"
   ]
  },
  {
   "cell_type": "code",
   "execution_count": null,
   "metadata": {},
   "outputs": [],
   "source": []
  },
  {
   "cell_type": "code",
   "execution_count": 6,
   "metadata": {},
   "outputs": [
    {
     "data": {
      "text/html": [
       "<div>\n",
       "<style scoped>\n",
       "    .dataframe tbody tr th:only-of-type {\n",
       "        vertical-align: middle;\n",
       "    }\n",
       "\n",
       "    .dataframe tbody tr th {\n",
       "        vertical-align: top;\n",
       "    }\n",
       "\n",
       "    .dataframe thead th {\n",
       "        text-align: right;\n",
       "    }\n",
       "</style>\n",
       "<table border=\"1\" class=\"dataframe\">\n",
       "  <thead>\n",
       "    <tr style=\"text-align: right;\">\n",
       "      <th></th>\n",
       "      <th>report_assets</th>\n",
       "      <th>report_liability</th>\n",
       "      <th>report_revenue</th>\n",
       "      <th>report_income</th>\n",
       "      <th>ratio</th>\n",
       "    </tr>\n",
       "  </thead>\n",
       "  <tbody>\n",
       "    <tr>\n",
       "      <th>count</th>\n",
       "      <td>1.000100e+04</td>\n",
       "      <td>1.000100e+04</td>\n",
       "      <td>1.000100e+04</td>\n",
       "      <td>1.000100e+04</td>\n",
       "      <td>10001.000000</td>\n",
       "    </tr>\n",
       "    <tr>\n",
       "      <th>mean</th>\n",
       "      <td>1.669186e+09</td>\n",
       "      <td>8.227444e+08</td>\n",
       "      <td>8.380611e+07</td>\n",
       "      <td>4.234090e+07</td>\n",
       "      <td>5.172902</td>\n",
       "    </tr>\n",
       "    <tr>\n",
       "      <th>std</th>\n",
       "      <td>2.860893e+09</td>\n",
       "      <td>1.690545e+09</td>\n",
       "      <td>1.722645e+08</td>\n",
       "      <td>1.021757e+08</td>\n",
       "      <td>3.435294</td>\n",
       "    </tr>\n",
       "    <tr>\n",
       "      <th>min</th>\n",
       "      <td>1.431000e+03</td>\n",
       "      <td>2.320000e+02</td>\n",
       "      <td>2.900000e+01</td>\n",
       "      <td>8.000000e+00</td>\n",
       "      <td>0.002158</td>\n",
       "    </tr>\n",
       "    <tr>\n",
       "      <th>25%</th>\n",
       "      <td>6.701442e+06</td>\n",
       "      <td>2.629627e+06</td>\n",
       "      <td>2.621850e+05</td>\n",
       "      <td>9.244900e+04</td>\n",
       "      <td>2.331021</td>\n",
       "    </tr>\n",
       "    <tr>\n",
       "      <th>50%</th>\n",
       "      <td>5.131424e+07</td>\n",
       "      <td>1.845087e+07</td>\n",
       "      <td>1.851513e+06</td>\n",
       "      <td>6.569210e+05</td>\n",
       "      <td>4.786098</td>\n",
       "    </tr>\n",
       "    <tr>\n",
       "      <th>75%</th>\n",
       "      <td>2.403866e+09</td>\n",
       "      <td>6.476875e+08</td>\n",
       "      <td>6.858903e+07</td>\n",
       "      <td>2.057980e+07</td>\n",
       "      <td>7.390551</td>\n",
       "    </tr>\n",
       "    <tr>\n",
       "      <th>max</th>\n",
       "      <td>9.997281e+09</td>\n",
       "      <td>9.801899e+09</td>\n",
       "      <td>9.762156e+08</td>\n",
       "      <td>8.111457e+08</td>\n",
       "      <td>19.183488</td>\n",
       "    </tr>\n",
       "  </tbody>\n",
       "</table>\n",
       "</div>"
      ],
      "text/plain": [
       "       report_assets  report_liability  report_revenue  report_income  \\\n",
       "count   1.000100e+04      1.000100e+04    1.000100e+04   1.000100e+04   \n",
       "mean    1.669186e+09      8.227444e+08    8.380611e+07   4.234090e+07   \n",
       "std     2.860893e+09      1.690545e+09    1.722645e+08   1.021757e+08   \n",
       "min     1.431000e+03      2.320000e+02    2.900000e+01   8.000000e+00   \n",
       "25%     6.701442e+06      2.629627e+06    2.621850e+05   9.244900e+04   \n",
       "50%     5.131424e+07      1.845087e+07    1.851513e+06   6.569210e+05   \n",
       "75%     2.403866e+09      6.476875e+08    6.858903e+07   2.057980e+07   \n",
       "max     9.997281e+09      9.801899e+09    9.762156e+08   8.111457e+08   \n",
       "\n",
       "              ratio  \n",
       "count  10001.000000  \n",
       "mean       5.172902  \n",
       "std        3.435294  \n",
       "min        0.002158  \n",
       "25%        2.331021  \n",
       "50%        4.786098  \n",
       "75%        7.390551  \n",
       "max       19.183488  "
      ]
     },
     "execution_count": 6,
     "metadata": {},
     "output_type": "execute_result"
    }
   ],
   "source": [
    "df.describe()"
   ]
  },
  {
   "cell_type": "code",
   "execution_count": null,
   "metadata": {},
   "outputs": [],
   "source": []
  },
  {
   "cell_type": "code",
   "execution_count": 7,
   "metadata": {},
   "outputs": [
    {
     "data": {
      "text/html": [
       "<div>\n",
       "<style scoped>\n",
       "    .dataframe tbody tr th:only-of-type {\n",
       "        vertical-align: middle;\n",
       "    }\n",
       "\n",
       "    .dataframe tbody tr th {\n",
       "        vertical-align: top;\n",
       "    }\n",
       "\n",
       "    .dataframe thead th {\n",
       "        text-align: right;\n",
       "    }\n",
       "</style>\n",
       "<table border=\"1\" class=\"dataframe\">\n",
       "  <thead>\n",
       "    <tr style=\"text-align: right;\">\n",
       "      <th></th>\n",
       "      <th>report_assets</th>\n",
       "      <th>report_liability</th>\n",
       "      <th>report_revenue</th>\n",
       "      <th>report_income</th>\n",
       "      <th>institution_class</th>\n",
       "      <th>ratio</th>\n",
       "      <th>performance</th>\n",
       "    </tr>\n",
       "  </thead>\n",
       "  <tbody>\n",
       "    <tr>\n",
       "      <th>0</th>\n",
       "      <td>14689646</td>\n",
       "      <td>6052776</td>\n",
       "      <td>819386</td>\n",
       "      <td>204031</td>\n",
       "      <td>high</td>\n",
       "      <td>4.933932</td>\n",
       "      <td>upper</td>\n",
       "    </tr>\n",
       "    <tr>\n",
       "      <th>1</th>\n",
       "      <td>7223978</td>\n",
       "      <td>2719722</td>\n",
       "      <td>427268</td>\n",
       "      <td>61255</td>\n",
       "      <td>upper</td>\n",
       "      <td>4.912890</td>\n",
       "      <td>upper</td>\n",
       "    </tr>\n",
       "    <tr>\n",
       "      <th>2</th>\n",
       "      <td>90871076</td>\n",
       "      <td>76119534</td>\n",
       "      <td>3098791</td>\n",
       "      <td>1077167</td>\n",
       "      <td>high</td>\n",
       "      <td>2.500714</td>\n",
       "      <td>middle</td>\n",
       "    </tr>\n",
       "    <tr>\n",
       "      <th>3</th>\n",
       "      <td>30187502</td>\n",
       "      <td>1848448</td>\n",
       "      <td>2295721</td>\n",
       "      <td>2225467</td>\n",
       "      <td>high</td>\n",
       "      <td>14.112858</td>\n",
       "      <td>high</td>\n",
       "    </tr>\n",
       "    <tr>\n",
       "      <th>4</th>\n",
       "      <td>5696065031</td>\n",
       "      <td>350281564</td>\n",
       "      <td>85694866</td>\n",
       "      <td>66378622</td>\n",
       "      <td>high</td>\n",
       "      <td>2.515130</td>\n",
       "      <td>middle</td>\n",
       "    </tr>\n",
       "    <tr>\n",
       "      <th>...</th>\n",
       "      <td>...</td>\n",
       "      <td>...</td>\n",
       "      <td>...</td>\n",
       "      <td>...</td>\n",
       "      <td>...</td>\n",
       "      <td>...</td>\n",
       "      <td>...</td>\n",
       "    </tr>\n",
       "    <tr>\n",
       "      <th>9996</th>\n",
       "      <td>9757417394</td>\n",
       "      <td>613670518</td>\n",
       "      <td>401609849</td>\n",
       "      <td>250993209</td>\n",
       "      <td>high</td>\n",
       "      <td>6.292523</td>\n",
       "      <td>high</td>\n",
       "    </tr>\n",
       "    <tr>\n",
       "      <th>9997</th>\n",
       "      <td>868215099</td>\n",
       "      <td>589297027</td>\n",
       "      <td>7099801</td>\n",
       "      <td>6302689</td>\n",
       "      <td>high</td>\n",
       "      <td>0.919546</td>\n",
       "      <td>low</td>\n",
       "    </tr>\n",
       "    <tr>\n",
       "      <th>9998</th>\n",
       "      <td>16324196</td>\n",
       "      <td>10031179</td>\n",
       "      <td>1150504</td>\n",
       "      <td>857964</td>\n",
       "      <td>high</td>\n",
       "      <td>7.620715</td>\n",
       "      <td>high</td>\n",
       "    </tr>\n",
       "    <tr>\n",
       "      <th>9999</th>\n",
       "      <td>8344974</td>\n",
       "      <td>7198054</td>\n",
       "      <td>50445</td>\n",
       "      <td>36882</td>\n",
       "      <td>high</td>\n",
       "      <td>0.561840</td>\n",
       "      <td>low</td>\n",
       "    </tr>\n",
       "    <tr>\n",
       "      <th>10000</th>\n",
       "      <td>9335372870</td>\n",
       "      <td>2653675971</td>\n",
       "      <td>216131536</td>\n",
       "      <td>132634725</td>\n",
       "      <td>high</td>\n",
       "      <td>2.909040</td>\n",
       "      <td>middle</td>\n",
       "    </tr>\n",
       "  </tbody>\n",
       "</table>\n",
       "<p>10001 rows × 7 columns</p>\n",
       "</div>"
      ],
      "text/plain": [
       "       report_assets  report_liability  report_revenue  report_income  \\\n",
       "0           14689646           6052776          819386         204031   \n",
       "1            7223978           2719722          427268          61255   \n",
       "2           90871076          76119534         3098791        1077167   \n",
       "3           30187502           1848448         2295721        2225467   \n",
       "4         5696065031         350281564        85694866       66378622   \n",
       "...              ...               ...             ...            ...   \n",
       "9996      9757417394         613670518       401609849      250993209   \n",
       "9997       868215099         589297027         7099801        6302689   \n",
       "9998        16324196          10031179         1150504         857964   \n",
       "9999         8344974           7198054           50445          36882   \n",
       "10000     9335372870        2653675971       216131536      132634725   \n",
       "\n",
       "      institution_class      ratio performance  \n",
       "0                  high   4.933932       upper  \n",
       "1                 upper   4.912890       upper  \n",
       "2                  high   2.500714      middle  \n",
       "3                  high  14.112858        high  \n",
       "4                  high   2.515130      middle  \n",
       "...                 ...        ...         ...  \n",
       "9996               high   6.292523        high  \n",
       "9997               high   0.919546         low  \n",
       "9998               high   7.620715        high  \n",
       "9999               high   0.561840         low  \n",
       "10000              high   2.909040      middle  \n",
       "\n",
       "[10001 rows x 7 columns]"
      ]
     },
     "execution_count": 7,
     "metadata": {},
     "output_type": "execute_result"
    }
   ],
   "source": [
    "df"
   ]
  },
  {
   "cell_type": "code",
   "execution_count": null,
   "metadata": {},
   "outputs": [],
   "source": []
  },
  {
   "cell_type": "code",
   "execution_count": 8,
   "metadata": {},
   "outputs": [],
   "source": [
    "#Dropping the class feature\n",
    "df.drop(\"institution_class\",1,inplace=True)"
   ]
  },
  {
   "cell_type": "code",
   "execution_count": 9,
   "metadata": {},
   "outputs": [
    {
     "data": {
      "text/html": [
       "<div>\n",
       "<style scoped>\n",
       "    .dataframe tbody tr th:only-of-type {\n",
       "        vertical-align: middle;\n",
       "    }\n",
       "\n",
       "    .dataframe tbody tr th {\n",
       "        vertical-align: top;\n",
       "    }\n",
       "\n",
       "    .dataframe thead th {\n",
       "        text-align: right;\n",
       "    }\n",
       "</style>\n",
       "<table border=\"1\" class=\"dataframe\">\n",
       "  <thead>\n",
       "    <tr style=\"text-align: right;\">\n",
       "      <th></th>\n",
       "      <th>report_assets</th>\n",
       "      <th>report_liability</th>\n",
       "      <th>report_revenue</th>\n",
       "      <th>report_income</th>\n",
       "      <th>ratio</th>\n",
       "      <th>performance</th>\n",
       "    </tr>\n",
       "  </thead>\n",
       "  <tbody>\n",
       "    <tr>\n",
       "      <th>0</th>\n",
       "      <td>14689646</td>\n",
       "      <td>6052776</td>\n",
       "      <td>819386</td>\n",
       "      <td>204031</td>\n",
       "      <td>4.933932</td>\n",
       "      <td>upper</td>\n",
       "    </tr>\n",
       "    <tr>\n",
       "      <th>1</th>\n",
       "      <td>7223978</td>\n",
       "      <td>2719722</td>\n",
       "      <td>427268</td>\n",
       "      <td>61255</td>\n",
       "      <td>4.912890</td>\n",
       "      <td>upper</td>\n",
       "    </tr>\n",
       "    <tr>\n",
       "      <th>2</th>\n",
       "      <td>90871076</td>\n",
       "      <td>76119534</td>\n",
       "      <td>3098791</td>\n",
       "      <td>1077167</td>\n",
       "      <td>2.500714</td>\n",
       "      <td>middle</td>\n",
       "    </tr>\n",
       "    <tr>\n",
       "      <th>3</th>\n",
       "      <td>30187502</td>\n",
       "      <td>1848448</td>\n",
       "      <td>2295721</td>\n",
       "      <td>2225467</td>\n",
       "      <td>14.112858</td>\n",
       "      <td>high</td>\n",
       "    </tr>\n",
       "    <tr>\n",
       "      <th>4</th>\n",
       "      <td>5696065031</td>\n",
       "      <td>350281564</td>\n",
       "      <td>85694866</td>\n",
       "      <td>66378622</td>\n",
       "      <td>2.515130</td>\n",
       "      <td>middle</td>\n",
       "    </tr>\n",
       "  </tbody>\n",
       "</table>\n",
       "</div>"
      ],
      "text/plain": [
       "   report_assets  report_liability  report_revenue  report_income      ratio  \\\n",
       "0       14689646           6052776          819386         204031   4.933932   \n",
       "1        7223978           2719722          427268          61255   4.912890   \n",
       "2       90871076          76119534         3098791        1077167   2.500714   \n",
       "3       30187502           1848448         2295721        2225467  14.112858   \n",
       "4     5696065031         350281564        85694866       66378622   2.515130   \n",
       "\n",
       "  performance  \n",
       "0       upper  \n",
       "1       upper  \n",
       "2      middle  \n",
       "3        high  \n",
       "4      middle  "
      ]
     },
     "execution_count": 9,
     "metadata": {},
     "output_type": "execute_result"
    }
   ],
   "source": [
    "df.head()"
   ]
  },
  {
   "cell_type": "code",
   "execution_count": 10,
   "metadata": {},
   "outputs": [],
   "source": [
    "df.drop(\"ratio\", 1, inplace=True)"
   ]
  },
  {
   "cell_type": "code",
   "execution_count": 11,
   "metadata": {},
   "outputs": [
    {
     "data": {
      "text/html": [
       "<div>\n",
       "<style scoped>\n",
       "    .dataframe tbody tr th:only-of-type {\n",
       "        vertical-align: middle;\n",
       "    }\n",
       "\n",
       "    .dataframe tbody tr th {\n",
       "        vertical-align: top;\n",
       "    }\n",
       "\n",
       "    .dataframe thead th {\n",
       "        text-align: right;\n",
       "    }\n",
       "</style>\n",
       "<table border=\"1\" class=\"dataframe\">\n",
       "  <thead>\n",
       "    <tr style=\"text-align: right;\">\n",
       "      <th></th>\n",
       "      <th>report_assets</th>\n",
       "      <th>report_liability</th>\n",
       "      <th>report_revenue</th>\n",
       "      <th>report_income</th>\n",
       "      <th>performance</th>\n",
       "    </tr>\n",
       "  </thead>\n",
       "  <tbody>\n",
       "    <tr>\n",
       "      <th>0</th>\n",
       "      <td>14689646</td>\n",
       "      <td>6052776</td>\n",
       "      <td>819386</td>\n",
       "      <td>204031</td>\n",
       "      <td>upper</td>\n",
       "    </tr>\n",
       "    <tr>\n",
       "      <th>1</th>\n",
       "      <td>7223978</td>\n",
       "      <td>2719722</td>\n",
       "      <td>427268</td>\n",
       "      <td>61255</td>\n",
       "      <td>upper</td>\n",
       "    </tr>\n",
       "    <tr>\n",
       "      <th>2</th>\n",
       "      <td>90871076</td>\n",
       "      <td>76119534</td>\n",
       "      <td>3098791</td>\n",
       "      <td>1077167</td>\n",
       "      <td>middle</td>\n",
       "    </tr>\n",
       "    <tr>\n",
       "      <th>3</th>\n",
       "      <td>30187502</td>\n",
       "      <td>1848448</td>\n",
       "      <td>2295721</td>\n",
       "      <td>2225467</td>\n",
       "      <td>high</td>\n",
       "    </tr>\n",
       "    <tr>\n",
       "      <th>4</th>\n",
       "      <td>5696065031</td>\n",
       "      <td>350281564</td>\n",
       "      <td>85694866</td>\n",
       "      <td>66378622</td>\n",
       "      <td>middle</td>\n",
       "    </tr>\n",
       "  </tbody>\n",
       "</table>\n",
       "</div>"
      ],
      "text/plain": [
       "   report_assets  report_liability  report_revenue  report_income performance\n",
       "0       14689646           6052776          819386         204031       upper\n",
       "1        7223978           2719722          427268          61255       upper\n",
       "2       90871076          76119534         3098791        1077167      middle\n",
       "3       30187502           1848448         2295721        2225467        high\n",
       "4     5696065031         350281564        85694866       66378622      middle"
      ]
     },
     "execution_count": 11,
     "metadata": {},
     "output_type": "execute_result"
    }
   ],
   "source": [
    "df.head()"
   ]
  },
  {
   "cell_type": "code",
   "execution_count": null,
   "metadata": {},
   "outputs": [],
   "source": []
  },
  {
   "cell_type": "code",
   "execution_count": 12,
   "metadata": {},
   "outputs": [
    {
     "data": {
      "text/plain": [
       "<matplotlib.axes._subplots.AxesSubplot at 0x7f99fcf30290>"
      ]
     },
     "execution_count": 12,
     "metadata": {},
     "output_type": "execute_result"
    },
    {
     "data": {
      "image/png": "[encoded data removed]",
      "text/plain": [
       "<Figure size 864x576 with 1 Axes>"
      ]
     },
     "metadata": {
      "needs_background": "light"
     },
     "output_type": "display_data"
    }
   ],
   "source": [
    "plt.figure(figsize=(12,8))\n",
    "sns.countplot(df.performance)"
   ]
  },
  {
   "cell_type": "code",
   "execution_count": null,
   "metadata": {},
   "outputs": [],
   "source": []
  },
  {
   "cell_type": "code",
   "execution_count": null,
   "metadata": {},
   "outputs": [],
   "source": []
  },
  {
   "cell_type": "code",
   "execution_count": null,
   "metadata": {},
   "outputs": [],
   "source": [
    "plt.figure(figsize=(30,8))\n",
    "sns.countplot(df.performance,hue=df.report_income)"
   ]
  },
  {
   "cell_type": "code",
   "execution_count": null,
   "metadata": {},
   "outputs": [],
   "source": []
  },
  {
   "cell_type": "code",
   "execution_count": null,
   "metadata": {},
   "outputs": [],
   "source": [
    "plt.figure(figsize=(30,8))\n",
    "sns.countplot(df.performance,hue=df.report_liability)"
   ]
  },
  {
   "cell_type": "code",
   "execution_count": null,
   "metadata": {},
   "outputs": [],
   "source": []
  },
  {
   "cell_type": "code",
   "execution_count": null,
   "metadata": {},
   "outputs": [],
   "source": [
    "plt.figure(figsize=(30,8))\n",
    "sns.countplot(df.performance,hue=df.report_assets)"
   ]
  },
  {
   "cell_type": "code",
   "execution_count": null,
   "metadata": {},
   "outputs": [],
   "source": []
  },
  {
   "cell_type": "code",
   "execution_count": null,
   "metadata": {},
   "outputs": [],
   "source": [
    "plt.figure(figsize=(20,8))\n",
    "sns.boxplot(x='report_assets',y='report_income',data=df)\n",
    "plt.title('Box Plot of Report Assets vs Report Income')"
   ]
  },
  {
   "cell_type": "code",
   "execution_count": null,
   "metadata": {},
   "outputs": [],
   "source": []
  },
  {
   "cell_type": "code",
   "execution_count": null,
   "metadata": {},
   "outputs": [],
   "source": [
    "plt.figure(figsize=(20,8))\n",
    "sns.scatterplot(x='report_assets',y='report_income',data=df, hue=\"performance\")\n",
    "plt.title('Box Plot of Report Assets vs Report Income')"
   ]
  },
  {
   "cell_type": "code",
   "execution_count": null,
   "metadata": {},
   "outputs": [],
   "source": []
  },
  {
   "cell_type": "code",
   "execution_count": null,
   "metadata": {},
   "outputs": [],
   "source": [
    "plt.figure(figsize=(18,15))\n",
    "sns.heatmap(df.corr(), annot = True, cmap = 'RdYlGn')"
   ]
  },
  {
   "cell_type": "code",
   "execution_count": null,
   "metadata": {},
   "outputs": [],
   "source": []
  },
  {
   "cell_type": "code",
   "execution_count": 13,
   "metadata": {},
   "outputs": [],
   "source": [
    "#import the libraries\n",
    "from sklearn.ensemble import RandomForestClassifier\n",
    "from sklearn.ensemble.gradient_boosting import GradientBoostingClassifier\n",
    "from sklearn.model_selection import GridSearchCV\n",
    "from sklearn.model_selection import cross_val_score\n",
    "from sklearn.linear_model import LogisticRegression, LogisticRegressionCV"
   ]
  },
  {
   "cell_type": "code",
   "execution_count": null,
   "metadata": {},
   "outputs": [],
   "source": []
  },
  {
   "cell_type": "code",
   "execution_count": 14,
   "metadata": {},
   "outputs": [
    {
     "data": {
      "text/html": [
       "<div>\n",
       "<style scoped>\n",
       "    .dataframe tbody tr th:only-of-type {\n",
       "        vertical-align: middle;\n",
       "    }\n",
       "\n",
       "    .dataframe tbody tr th {\n",
       "        vertical-align: top;\n",
       "    }\n",
       "\n",
       "    .dataframe thead th {\n",
       "        text-align: right;\n",
       "    }\n",
       "</style>\n",
       "<table border=\"1\" class=\"dataframe\">\n",
       "  <thead>\n",
       "    <tr style=\"text-align: right;\">\n",
       "      <th></th>\n",
       "      <th>report_assets</th>\n",
       "      <th>report_liability</th>\n",
       "      <th>report_revenue</th>\n",
       "      <th>report_income</th>\n",
       "      <th>performance</th>\n",
       "    </tr>\n",
       "  </thead>\n",
       "  <tbody>\n",
       "    <tr>\n",
       "      <th>0</th>\n",
       "      <td>14689646</td>\n",
       "      <td>6052776</td>\n",
       "      <td>819386</td>\n",
       "      <td>204031</td>\n",
       "      <td>upper</td>\n",
       "    </tr>\n",
       "    <tr>\n",
       "      <th>1</th>\n",
       "      <td>7223978</td>\n",
       "      <td>2719722</td>\n",
       "      <td>427268</td>\n",
       "      <td>61255</td>\n",
       "      <td>upper</td>\n",
       "    </tr>\n",
       "  </tbody>\n",
       "</table>\n",
       "</div>"
      ],
      "text/plain": [
       "   report_assets  report_liability  report_revenue  report_income performance\n",
       "0       14689646           6052776          819386         204031       upper\n",
       "1        7223978           2719722          427268          61255       upper"
      ]
     },
     "execution_count": 14,
     "metadata": {},
     "output_type": "execute_result"
    }
   ],
   "source": [
    "df.head(2)"
   ]
  },
  {
   "cell_type": "code",
   "execution_count": 15,
   "metadata": {},
   "outputs": [],
   "source": [
    "X = df.drop('performance',1)\n",
    "y = df.iloc[:,-1]"
   ]
  },
  {
   "cell_type": "code",
   "execution_count": null,
   "metadata": {},
   "outputs": [],
   "source": []
  },
  {
   "cell_type": "code",
   "execution_count": 16,
   "metadata": {},
   "outputs": [],
   "source": [
    "def compute_score(clf, X, y, scoring='accuracy'):\n",
    "    xval = cross_val_score(clf, X, y, cv = 5, scoring=scoring)\n",
    "    return np.mean(xval) #Cross validation to check for biasness and variance"
   ]
  },
  {
   "cell_type": "code",
   "execution_count": null,
   "metadata": {},
   "outputs": [],
   "source": []
  },
  {
   "cell_type": "code",
   "execution_count": 17,
   "metadata": {},
   "outputs": [],
   "source": [
    "#Testing different base models\n",
    "logreg = LogisticRegression()\n",
    "logreg_cv = LogisticRegressionCV()\n",
    "rf = RandomForestClassifier()\n",
    "gboost = GradientBoostingClassifier()\n",
    "models = [logreg, logreg_cv, rf, gboost]"
   ]
  },
  {
   "cell_type": "code",
   "execution_count": null,
   "metadata": {},
   "outputs": [],
   "source": []
  },
  {
   "cell_type": "code",
   "execution_count": 18,
   "metadata": {},
   "outputs": [
    {
     "name": "stdout",
     "output_type": "stream",
     "text": [
      "Cross-validation of : <class 'sklearn.linear_model._logistic.LogisticRegression'>\n",
      "CV score = 0.9805016991504247\n",
      "****\n",
      "Cross-validation of : <class 'sklearn.linear_model._logistic.LogisticRegressionCV'>\n",
      "CV score = 0.9958004997501251\n",
      "****\n",
      "Cross-validation of : <class 'sklearn.ensemble._forest.RandomForestClassifier'>\n",
      "CV score = 0.8894119440279861\n",
      "****\n",
      "Cross-validation of : <class 'sklearn.ensemble._gb.GradientBoostingClassifier'>\n",
      "CV score = 0.8009205397301349\n",
      "****\n"
     ]
    }
   ],
   "source": [
    "for model in models:\n",
    "    print('Cross-validation of : {0}'.format(model.__class__))\n",
    "    score = compute_score(clf=model, X=X, y=y, scoring='accuracy')\n",
    "    print('CV score = {0}'.format(score))\n",
    "    print('****')"
   ]
  },
  {
   "cell_type": "code",
   "execution_count": null,
   "metadata": {},
   "outputs": [],
   "source": []
  },
  {
   "cell_type": "code",
   "execution_count": 19,
   "metadata": {},
   "outputs": [],
   "source": [
    "#Lets try train test split\n",
    "from sklearn.model_selection import train_test_split\n",
    "X_train, X_test, y_train, y_test = train_test_split(X, y, test_size=0.33, random_state=101)"
   ]
  },
  {
   "cell_type": "code",
   "execution_count": null,
   "metadata": {},
   "outputs": [],
   "source": []
  },
  {
   "cell_type": "code",
   "execution_count": 20,
   "metadata": {},
   "outputs": [],
   "source": [
    "#Using the random forest algorithm\n",
    "model = rf.fit(X_train,y_train)"
   ]
  },
  {
   "cell_type": "code",
   "execution_count": null,
   "metadata": {},
   "outputs": [],
   "source": []
  },
  {
   "cell_type": "code",
   "execution_count": 21,
   "metadata": {},
   "outputs": [],
   "source": [
    "y_pred = model.predict(X_test)"
   ]
  },
  {
   "cell_type": "code",
   "execution_count": null,
   "metadata": {},
   "outputs": [],
   "source": []
  },
  {
   "cell_type": "code",
   "execution_count": 22,
   "metadata": {},
   "outputs": [
    {
     "name": "stdout",
     "output_type": "stream",
     "text": [
      "              precision    recall  f1-score   support\n",
      "\n",
      "        high       0.91      0.95      0.93      1264\n",
      "         low       0.94      0.93      0.94       700\n",
      "      middle       0.85      0.85      0.85       671\n",
      "       upper       0.80      0.75      0.77       666\n",
      "\n",
      "    accuracy                           0.88      3301\n",
      "   macro avg       0.88      0.87      0.87      3301\n",
      "weighted avg       0.88      0.88      0.88      3301\n",
      "\n"
     ]
    }
   ],
   "source": [
    "#Check the prediction precision and accuracy\n",
    "from sklearn.metrics import classification_report, confusion_matrix\n",
    "\n",
    "print(classification_report(y_test,y_pred))"
   ]
  },
  {
   "cell_type": "code",
   "execution_count": null,
   "metadata": {},
   "outputs": [],
   "source": []
  },
  {
   "cell_type": "code",
   "execution_count": 23,
   "metadata": {},
   "outputs": [
    {
     "name": "stdout",
     "output_type": "stream",
     "text": [
      "[[1199    0    1   64]\n",
      " [   2  651   45    2]\n",
      " [   5   36  571   59]\n",
      " [ 111    3   53  499]]\n"
     ]
    }
   ],
   "source": [
    "print(confusion_matrix(y_test, y_pred))"
   ]
  },
  {
   "cell_type": "code",
   "execution_count": null,
   "metadata": {},
   "outputs": [],
   "source": []
  },
  {
   "cell_type": "code",
   "execution_count": 24,
   "metadata": {},
   "outputs": [
    {
     "name": "stdout",
     "output_type": "stream",
     "text": [
      "[INFO]: Finished saving model...\n"
     ]
    }
   ],
   "source": [
    "#Saving the model with pickle\n",
    "import pickle\n",
    "\n",
    "# save the model to disk\n",
    "model_name  = 'income.pkl'\n",
    "pickle.dump(model, open(model_name, 'wb'))\n",
    "\n",
    "print(\"[INFO]: Finished saving model...\")"
   ]
  },
  {
   "cell_type": "code",
   "execution_count": null,
   "metadata": {},
   "outputs": [],
   "source": []
  },
  {
   "cell_type": "code",
   "execution_count": null,
   "metadata": {},
   "outputs": [],
   "source": []
  }
 ],
 "metadata": {
  "kernelspec": {
   "display_name": "Python 3",
   "language": "python",
   "name": "python3"
  },
  "language_info": {
   "codemirror_mode": {
    "name": "ipython",
    "version": 3
   },
   "file_extension": ".py",
   "mimetype": "text/x-python",
   "name": "python",
   "nbconvert_exporter": "python",
   "pygments_lexer": "ipython3",
   "version": "3.7.7"
  }
 },
 "nbformat": 4,
 "nbformat_minor": 4
}
